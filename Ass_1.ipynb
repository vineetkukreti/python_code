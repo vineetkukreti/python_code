{
 "cells": [
  {
   "cell_type": "markdown",
   "id": "eedcfd85",
   "metadata": {},
   "source": [
    "Q1. Explain with an example each when to use a for loop and a while loop."
   ]
  },
  {
   "cell_type": "code",
   "execution_count": 2,
   "id": "2112425e",
   "metadata": {},
   "outputs": [
    {
     "name": "stdout",
     "output_type": "stream",
     "text": [
      "Name : vineet\n",
      "Name : mukesh\n",
      "Name : suresh\n",
      "Name : vinod\n",
      "Name : Arya\n"
     ]
    }
   ],
   "source": [
    "# Example using for loop ,using list\n",
    "Names = [\"vineet\",\"mukesh\",\"suresh\",\"vinod\",\"Arya\"]\n",
    "for name in Names:\n",
    "    print(f\"Name : {name}\")"
   ]
  },
  {
   "cell_type": "markdown",
   "id": "a6e85c80",
   "metadata": {},
   "source": [
    "#Example using while loop ,using list\n"
   ]
  },
  {
   "cell_type": "code",
   "execution_count": 7,
   "id": "42f51ae0",
   "metadata": {},
   "outputs": [
    {
     "name": "stdout",
     "output_type": "stream",
     "text": [
      "Name : vineet\n",
      "Name : mukesh\n",
      "Name : suresh\n",
      "Name : vinod\n",
      "Name : Arya\n"
     ]
    }
   ],
   "source": [
    "Names = [\"vineet\",\"mukesh\",\"suresh\",\"vinod\",\"Arya\"]\n",
    "i = 0\n",
    "while(i<len(Names)):\n",
    "    print(f\"Name : {Names[i]}\")\n",
    "    i+=1"
   ]
  },
  {
   "cell_type": "markdown",
   "id": "910301b1",
   "metadata": {},
   "source": [
    "Q2. Write a python program to print the sum and product of the first 10 natural numbers using for and while loop."
   ]
  },
  {
   "cell_type": "code",
   "execution_count": 11,
   "id": "f33bd6ae",
   "metadata": {},
   "outputs": [
    {
     "name": "stdout",
     "output_type": "stream",
     "text": [
      "Sum of the first Natural No: 55\n",
      "Product of the first Natural No: 3628800\n"
     ]
    }
   ],
   "source": [
    "#Using for Loop\n",
    "sum = 0\n",
    "prod = 1\n",
    "\n",
    "for number in range(1,11):\n",
    "    sum+=number\n",
    "    prod*=number\n",
    "print(f\"Sum of the first Natural No: {sum}\\nProduct of the first Natural No: {prod}\")\n"
   ]
  },
  {
   "cell_type": "code",
   "execution_count": 14,
   "id": "1d91a62b",
   "metadata": {},
   "outputs": [
    {
     "name": "stdout",
     "output_type": "stream",
     "text": [
      "Sum of the first Natural No: 55\n",
      "Product of the first Natural No: 3628800\n"
     ]
    }
   ],
   "source": [
    "sum = 0\n",
    "prod = 1\n",
    "number = 1\n",
    "while True:\n",
    "    if(number==11):\n",
    "        break\n",
    "    sum+=number\n",
    "    prod*=number\n",
    "    number+=1\n",
    "print(f\"Sum of the first Natural No: {sum}\\nProduct of the first Natural No: {prod}\")\n"
   ]
  },
  {
   "cell_type": "markdown",
   "id": "a9a17e40",
   "metadata": {},
   "source": [
    "Q4. Create a python program to compute the electricity bill for a household.The per-unit charges in rupees are as follows: For the first 100 units, the user will be charged Rs. 4.5 per unit, for the next 100 units, the user will be charged Rs. 6 per unit, and for the next 100 units, the user will be charged Rs. 10 per unit, After 300 units and above the user will be charged Rs. 20 per unit."
   ]
  },
  {
   "cell_type": "code",
   "execution_count": 39,
   "id": "4eda99e3",
   "metadata": {},
   "outputs": [
    {
     "name": "stdout",
     "output_type": "stream",
     "text": [
      "Enter the number of units consumed: 324\n",
      "Electricity bill for the household is: Rs. 2530.0\n"
     ]
    }
   ],
   "source": [
    "units = int(input(\"Enter the number of units consumed: \"))\n",
    "total_bill = 0\n",
    "\n",
    "if units <= 100:\n",
    "    total_bill = units * 4.5\n",
    "elif units <= 200:\n",
    "    total_bill = 100 * 4.5 + (units - 100) * 6\n",
    "elif units <= 300:\n",
    "    total_bill = 100 * 4.5 + 100 * 6 + (units - 200) * 10\n",
    "else:\n",
    "    total_bill = 100 * 4.5 + 100 * 6 + 100 * 10 + (units - 300) * 20\n",
    "\n",
    "print(\"Electricity bill for the household is: Rs.\", total_bill)"
   ]
  },
  {
   "cell_type": "markdown",
   "id": "d3a75e61",
   "metadata": {},
   "source": [
    "Q4. Create a list of numbers from 1 to 100. Use for loop and while loop to calculate the cube of each\n",
    "number and if the cube of that number is divisible by 4 or 5 then append that number in a list and print\n",
    "that list."
   ]
  },
  {
   "cell_type": "code",
   "execution_count": null,
   "id": "782b5165",
   "metadata": {},
   "outputs": [],
   "source": [
    "#Create a list of numbers from 1 to 100\n",
    "#Using for loop\n",
    "myList = []\n",
    "for number in range(1,101):\n",
    "    myList.append(number)\n",
    "\n",
    "myList2 = []    \n",
    "for number in myList:\n",
    "    cube_of_number  = pow(number,3)\n",
    "    if(cube_of_number%4==0 or cube_of_number %5==0):\n",
    "        myList2.append(number)\n",
    "        \n",
    "for number in myList2:\n",
    "    print(number,end=\" \")"
   ]
  },
  {
   "cell_type": "code",
   "execution_count": 30,
   "id": "88f88818",
   "metadata": {},
   "outputs": [
    {
     "name": "stdout",
     "output_type": "stream",
     "text": [
      "2 4 5 6 8 10 12 14 15 16 18 20 22 24 25 26 28 30 32 34 35 36 38 40 42 44 45 46 48 50 52 54 55 56 58 60 62 64 65 66 68 70 72 74 75 76 78 80 82 84 85 86 88 90 92 94 95 96 98 100 "
     ]
    }
   ],
   "source": [
    "# Using for while\n",
    "myList = []\n",
    "for number in range(1,101):\n",
    "    myList.append(number)\n",
    "number = 0\n",
    "myList2 = []   \n",
    "while number<len(myList):\n",
    "    cube_of_number  = pow(myList[number],3)\n",
    "    if(cube_of_number%4==0 or cube_of_number %5==0):\n",
    "        myList2.append(myList[number])\n",
    "    number+=1\n",
    "        \n",
    "for number in myList2:\n",
    "    print(number,end=\" \")"
   ]
  },
  {
   "cell_type": "markdown",
   "id": "652809d4",
   "metadata": {},
   "source": [
    "Q5. Write a program to filter count vowels in the below-given string.\n",
    "string = \"I want to become a data scientist\""
   ]
  },
  {
   "cell_type": "code",
   "execution_count": 38,
   "id": "bb5e4573",
   "metadata": {},
   "outputs": [
    {
     "name": "stdout",
     "output_type": "stream",
     "text": [
      "Vowels count :  12\n"
     ]
    }
   ],
   "source": [
    "string  = \"I want to become a data scientist\"\n",
    "vowels = \"AEIOUaeiou\"\n",
    "count  = 0;\n",
    "for vowel in string:\n",
    "    if vowel in vowels:\n",
    "        count+=1\n",
    "print(\"Vowels count : \",count);"
   ]
  },
  {
   "cell_type": "code",
   "execution_count": null,
   "id": "fc9ea78f",
   "metadata": {},
   "outputs": [],
   "source": []
  },
  {
   "cell_type": "code",
   "execution_count": null,
   "id": "5fb54ab7",
   "metadata": {},
   "outputs": [],
   "source": []
  }
 ],
 "metadata": {
  "kernelspec": {
   "display_name": "Python 3 (ipykernel)",
   "language": "python",
   "name": "python3"
  },
  "language_info": {
   "codemirror_mode": {
    "name": "ipython",
    "version": 3
   },
   "file_extension": ".py",
   "mimetype": "text/x-python",
   "name": "python",
   "nbconvert_exporter": "python",
   "pygments_lexer": "ipython3",
   "version": "3.10.9"
  }
 },
 "nbformat": 4,
 "nbformat_minor": 5
}
